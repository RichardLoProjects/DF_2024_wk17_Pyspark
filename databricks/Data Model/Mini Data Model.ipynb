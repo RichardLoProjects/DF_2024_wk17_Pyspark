{
 "cells": [
  {
   "cell_type": "markdown",
   "metadata": {
    "application/vnd.databricks.v1+cell": {
     "cellMetadata": {
      "byteLimit": 2048000,
      "rowLimit": 10000
     },
     "inputWidgets": {},
     "nuid": "2e0daeb4-fcc9-4c16-a1c9-232f17adbfd5",
     "showTitle": false,
     "title": ""
    }
   },
   "source": [
    "# Data Integration Data Model"
   ]
  },
  {
   "cell_type": "code",
   "execution_count": 0,
   "metadata": {
    "application/vnd.databricks.v1+cell": {
     "cellMetadata": {
      "byteLimit": 2048000,
      "rowLimit": 10000
     },
     "inputWidgets": {},
     "nuid": "e02b0615-e539-4475-bd63-d367059fdf26",
     "showTitle": false,
     "title": ""
    }
   },
   "outputs": [],
   "source": [
    "from pyspark.sql import SparkSession, Row\n",
    "from pyspark.sql.types import (\n",
    "    StructField\n",
    "    , StringType\n",
    "    , IntegerType\n",
    "    , DoubleType\n",
    "    , StructType\n",
    ")\n",
    "spark = SparkSession.builder.appName(\"Mini_Data_Model\").getOrCreate()"
   ]
  },
  {
   "cell_type": "markdown",
   "metadata": {
    "application/vnd.databricks.v1+cell": {
     "cellMetadata": {
      "byteLimit": 2048000,
      "rowLimit": 10000
     },
     "inputWidgets": {},
     "nuid": "fc68e9bf-9d4c-482a-a2dc-16a2083b60ac",
     "showTitle": false,
     "title": ""
    }
   },
   "source": [
    "### Aims\n",
    "\n",
    "The goal is to seek an algorithmic approach to merging the following datasets where the column names are implicitly defined based on domain knowledge and EDA:"
   ]
  },
  {
   "cell_type": "code",
   "execution_count": 0,
   "metadata": {
    "application/vnd.databricks.v1+cell": {
     "cellMetadata": {
      "byteLimit": 2048000,
      "rowLimit": 10000
     },
     "inputWidgets": {},
     "nuid": "187873bf-170d-4b5e-9598-bb1d3fb4a214",
     "showTitle": false,
     "title": ""
    }
   },
   "outputs": [],
   "source": [
    "dataset_A = {\n",
    "    1: (1769, 6421.79, 0, 'Dave', 30)\n",
    "    , 2: (8341, 1137.20, 1, 'Bob', 42)\n",
    "    , 3: (4507, 911.93, 0, 'Jess', 21)\n",
    "    , 4: (None, 1234.0, 0, 'Lisa', 37)\n",
    "    , 5: (4405, 7891.37, None, 'Andy', 38)\n",
    "    , 6: (6666, 1234.0, 0, None, 99)\n",
    "}\n",
    "\n",
    "dataset_B = {\n",
    "    0: (1769, 30, 6421.79, 0, None)\n",
    "    , 1: (4507, 21, 911.93, 0, 48)\n",
    "    , 2: (4405, 38, 7891.37, 1, 587)\n",
    "    , 3: (8341, 42, 10.56, 1, 999)\n",
    "    , 4: (7777, 56, 4939.32, None, 1233)\n",
    "    , 5: (6666, 98, 1234.0, 0, 1234)\n",
    "}\n",
    "\n",
    "dataset_C = {\n",
    "    4232: (None, 58.58, 23)\n",
    "    , 9947: (687, 3400.21, 66)\n",
    "    , 8888: (951, 78.29, 18)\n",
    "    , 6666: (543, 435.0, 97)\n",
    "}"
   ]
  },
  {
   "cell_type": "markdown",
   "metadata": {
    "application/vnd.databricks.v1+cell": {
     "cellMetadata": {
      "byteLimit": 2048000,
      "rowLimit": 10000
     },
     "inputWidgets": {},
     "nuid": "b59579d6-d307-4f7c-9c05-bc70dddd7fad",
     "showTitle": false,
     "title": ""
    }
   },
   "source": [
    "##### Step 0\n",
    "\n",
    "A target for the data is set based off EDA."
   ]
  },
  {
   "cell_type": "code",
   "execution_count": 0,
   "metadata": {
    "application/vnd.databricks.v1+cell": {
     "cellMetadata": {
      "byteLimit": 2048000,
      "rowLimit": 10000
     },
     "inputWidgets": {},
     "nuid": "9ef3bb8e-08cd-4323-b864-c2674cd47444",
     "showTitle": false,
     "title": ""
    }
   },
   "outputs": [
    {
     "output_type": "stream",
     "name": "stdout",
     "output_type": "stream",
     "text": [
      "root\n |-- cust_id: integer (nullable = true)\n |-- name: string (nullable = true)\n |-- age: integer (nullable = true)\n |-- balance: double (nullable = true)\n |-- c_score: integer (nullable = true)\n |-- churn: integer (nullable = true)\n\n"
     ]
    }
   ],
   "source": [
    "target_df = spark.createDataFrame([], schema=StructType(fields=[\n",
    "    StructField('cust_id', IntegerType(), True)\n",
    "    , StructField('name', StringType(), True)\n",
    "    , StructField('age', IntegerType(), True)\n",
    "    , StructField('balance', DoubleType(), True)\n",
    "    , StructField('c_score', IntegerType(), True)\n",
    "    , StructField('churn', IntegerType(), True)\n",
    "]))\n",
    "target_df.printSchema()"
   ]
  },
  {
   "cell_type": "markdown",
   "metadata": {
    "application/vnd.databricks.v1+cell": {
     "cellMetadata": {
      "byteLimit": 2048000,
      "rowLimit": 10000
     },
     "inputWidgets": {},
     "nuid": "c3fd51be-8c36-4c39-81f6-25a3c655b00b",
     "showTitle": false,
     "title": ""
    }
   },
   "source": [
    "##### Step 1\n",
    "\n",
    "It is assumed\n",
    "- `cust_id` is consistent across all datasets.\n",
    "- all datasets have similar data: ie the columns are somewhat the same.\n",
    "- the schemas are roughly compatible: eg age is numeric instead of a mix of string/numeric.\n",
    "\n",
    "Each dataframe attribute is labeled according to the data because it is not assumed that the data is consistent. Care must be taken to validate consistency when merging multiple data sources into the target table."
   ]
  },
  {
   "cell_type": "code",
   "execution_count": 0,
   "metadata": {
    "application/vnd.databricks.v1+cell": {
     "cellMetadata": {
      "byteLimit": 2048000,
      "rowLimit": 10000
     },
     "inputWidgets": {},
     "nuid": "753a7fc2-982a-4b5a-9d95-14f47794de94",
     "showTitle": false,
     "title": ""
    }
   },
   "outputs": [],
   "source": [
    "df_A = spark.createDataFrame([\n",
    "    Row(\n",
    "        idx=i\n",
    "        , cust_id=r[0]\n",
    "        , balance_A=r[1]\n",
    "        , churn_A=r[2]\n",
    "        , name_A=r[3]\n",
    "        , age_A=r[4]\n",
    "    ) for i,r in dataset_A.items()\n",
    "])\n",
    "\n",
    "df_B = spark.createDataFrame([\n",
    "    Row(\n",
    "        idx=i\n",
    "        , cust_id=r[0]\n",
    "        , age_B=r[1]\n",
    "        , balance_B=r[2]\n",
    "        , churn_B=r[3]\n",
    "        , c_score_B=r[4]\n",
    "    ) for i,r in dataset_B.items()\n",
    "])\n",
    "\n",
    "df_C = spark.createDataFrame([\n",
    "    Row(\n",
    "        cust_id=i\n",
    "        , c_score_C=r[0]\n",
    "        , balance_C=r[1]\n",
    "        , age_C=r[2]\n",
    "    ) for i,r in dataset_C.items()\n",
    "])"
   ]
  },
  {
   "cell_type": "code",
   "execution_count": 0,
   "metadata": {
    "application/vnd.databricks.v1+cell": {
     "cellMetadata": {
      "byteLimit": 2048000,
      "rowLimit": 10000
     },
     "inputWidgets": {},
     "nuid": "b93d74b3-c31c-45b4-8325-ee70492dfbff",
     "showTitle": false,
     "title": ""
    }
   },
   "outputs": [
    {
     "output_type": "stream",
     "name": "stdout",
     "output_type": "stream",
     "text": [
      "+---+-------+---------+-------+------+-----+\n|idx|cust_id|balance_A|churn_A|name_A|age_A|\n+---+-------+---------+-------+------+-----+\n|  1|   1769|  6421.79|      0|  Dave|   30|\n|  2|   8341|   1137.2|      1|   Bob|   42|\n|  3|   4507|   911.93|      0|  Jess|   21|\n|  4|   null|   1234.0|      0|  Lisa|   37|\n|  5|   4405|  7891.37|   null|  Andy|   38|\n|  6|   6666|   1234.0|      0|  null|   99|\n+---+-------+---------+-------+------+-----+\n\n"
     ]
    }
   ],
   "source": [
    "df_A.show()"
   ]
  },
  {
   "cell_type": "code",
   "execution_count": 0,
   "metadata": {
    "application/vnd.databricks.v1+cell": {
     "cellMetadata": {
      "byteLimit": 2048000,
      "rowLimit": 10000
     },
     "inputWidgets": {},
     "nuid": "ff4ba10c-5ffd-4d0c-83b1-7d26bc91ac94",
     "showTitle": false,
     "title": ""
    }
   },
   "outputs": [
    {
     "output_type": "stream",
     "name": "stdout",
     "output_type": "stream",
     "text": [
      "+---+-------+-----+---------+-------+---------+\n|idx|cust_id|age_B|balance_B|churn_B|c_score_B|\n+---+-------+-----+---------+-------+---------+\n|  0|   1769|   30|  6421.79|      0|     null|\n|  1|   4507|   21|   911.93|      0|       48|\n|  2|   4405|   38|  7891.37|      1|      587|\n|  3|   8341|   42|    10.56|      1|      999|\n|  4|   7777|   56|  4939.32|   null|     1233|\n|  5|   6666|   98|   1234.0|      0|     1234|\n+---+-------+-----+---------+-------+---------+\n\n"
     ]
    }
   ],
   "source": [
    "df_B.show()"
   ]
  },
  {
   "cell_type": "code",
   "execution_count": 0,
   "metadata": {
    "application/vnd.databricks.v1+cell": {
     "cellMetadata": {
      "byteLimit": 2048000,
      "rowLimit": 10000
     },
     "inputWidgets": {},
     "nuid": "2861c520-4d94-4ebf-955f-5e21d8272e1a",
     "showTitle": false,
     "title": ""
    }
   },
   "outputs": [
    {
     "output_type": "stream",
     "name": "stdout",
     "output_type": "stream",
     "text": [
      "+-------+---------+---------+-----+\n|cust_id|c_score_C|balance_C|age_C|\n+-------+---------+---------+-----+\n|   4232|     null|    58.58|   23|\n|   9947|      687|  3400.21|   66|\n|   8888|      951|    78.29|   18|\n|   6666|      543|    435.0|   97|\n+-------+---------+---------+-----+\n\n"
     ]
    }
   ],
   "source": [
    "df_C.show()"
   ]
  },
  {
   "cell_type": "markdown",
   "metadata": {
    "application/vnd.databricks.v1+cell": {
     "cellMetadata": {
      "byteLimit": 2048000,
      "rowLimit": 10000
     },
     "inputWidgets": {},
     "nuid": "a883b7a3-c8ad-4c95-b37c-09b908403011",
     "showTitle": false,
     "title": ""
    }
   },
   "source": [
    "##### Step 2\n",
    "\n",
    "It is ensured that each customer has a `cust_id`."
   ]
  },
  {
   "cell_type": "code",
   "execution_count": 0,
   "metadata": {
    "application/vnd.databricks.v1+cell": {
     "cellMetadata": {
      "byteLimit": 2048000,
      "rowLimit": 10000
     },
     "inputWidgets": {},
     "nuid": "58fb7b9f-8fc3-4835-85f8-aee82bede7a2",
     "showTitle": false,
     "title": ""
    }
   },
   "outputs": [],
   "source": [
    "df_A = df_A.filter(df_A.cust_id.isNotNull())\n",
    "df_B = df_B.filter(df_B.cust_id.isNotNull())\n",
    "df_C = df_C.filter(df_C.cust_id.isNotNull())"
   ]
  },
  {
   "cell_type": "code",
   "execution_count": 0,
   "metadata": {
    "application/vnd.databricks.v1+cell": {
     "cellMetadata": {
      "byteLimit": 2048000,
      "rowLimit": 10000
     },
     "inputWidgets": {},
     "nuid": "d2d73adb-1e3a-4a0d-8155-af4820cd85b4",
     "showTitle": false,
     "title": ""
    }
   },
   "outputs": [
    {
     "output_type": "stream",
     "name": "stdout",
     "output_type": "stream",
     "text": [
      "+---+-------+---------+-------+------+-----+\n|idx|cust_id|balance_A|churn_A|name_A|age_A|\n+---+-------+---------+-------+------+-----+\n|  1|   1769|  6421.79|      0|  Dave|   30|\n|  2|   8341|   1137.2|      1|   Bob|   42|\n|  3|   4507|   911.93|      0|  Jess|   21|\n|  5|   4405|  7891.37|   null|  Andy|   38|\n|  6|   6666|   1234.0|      0|  null|   99|\n+---+-------+---------+-------+------+-----+\n\n"
     ]
    }
   ],
   "source": [
    "df_A.show()"
   ]
  },
  {
   "cell_type": "markdown",
   "metadata": {
    "application/vnd.databricks.v1+cell": {
     "cellMetadata": {
      "byteLimit": 2048000,
      "rowLimit": 10000
     },
     "inputWidgets": {},
     "nuid": "1cd20618-3a1c-4566-93cb-b2dce0c00af6",
     "showTitle": false,
     "title": ""
    }
   },
   "source": [
    "##### Step 3\n",
    "\n",
    "It is assumed that `cust_id`\n",
    "- exists.\n",
    "- is unique.\n",
    "\n",
    "That is, `cust_id` is assumed to be a valid primary key."
   ]
  },
  {
   "cell_type": "code",
   "execution_count": 0,
   "metadata": {
    "application/vnd.databricks.v1+cell": {
     "cellMetadata": {
      "byteLimit": 2048000,
      "rowLimit": 10000
     },
     "inputWidgets": {},
     "nuid": "ed166084-4d02-437c-b294-84958baa99ad",
     "showTitle": false,
     "title": ""
    }
   },
   "outputs": [],
   "source": [
    "full_joined_df = df_A.join(df_B, on='cust_id', how='full').join(df_C, on='cust_id', how='full')"
   ]
  },
  {
   "cell_type": "markdown",
   "metadata": {
    "application/vnd.databricks.v1+cell": {
     "cellMetadata": {
      "byteLimit": 2048000,
      "rowLimit": 10000
     },
     "inputWidgets": {},
     "nuid": "38239831-ffca-4fc3-a541-a8d7b9051e07",
     "showTitle": false,
     "title": ""
    }
   },
   "source": [
    "##### Step 4a (Observation)\n",
    "\n",
    "Data validation. To find an idea on how to approach this, note that data in `full_joined_df` can be validated row-wise."
   ]
  },
  {
   "cell_type": "code",
   "execution_count": 0,
   "metadata": {
    "application/vnd.databricks.v1+cell": {
     "cellMetadata": {
      "byteLimit": 2048000,
      "rowLimit": 10000
     },
     "inputWidgets": {},
     "nuid": "4e4e9848-f582-4139-b983-66b57fb5ce70",
     "showTitle": false,
     "title": ""
    }
   },
   "outputs": [
    {
     "output_type": "stream",
     "name": "stdout",
     "output_type": "stream",
     "text": [
      "+-------+----+---------+-------+------+-----+----+-----+---------+-------+---------+---------+---------+-----+\n|cust_id| idx|balance_A|churn_A|name_A|age_A| idx|age_B|balance_B|churn_B|c_score_B|c_score_C|balance_C|age_C|\n+-------+----+---------+-------+------+-----+----+-----+---------+-------+---------+---------+---------+-----+\n|   1769|   1|  6421.79|      0|  Dave|   30|   0|   30|  6421.79|      0|     null|     null|     null| null|\n|   4232|null|     null|   null|  null| null|null| null|     null|   null|     null|     null|    58.58|   23|\n|   4405|   5|  7891.37|   null|  Andy|   38|   2|   38|  7891.37|      1|      587|     null|     null| null|\n|   4507|   3|   911.93|      0|  Jess|   21|   1|   21|   911.93|      0|       48|     null|     null| null|\n|   6666|   6|   1234.0|      0|  null|   99|   5|   98|   1234.0|      0|     1234|      543|    435.0|   97|\n|   7777|null|     null|   null|  null| null|   4|   56|  4939.32|   null|     1233|     null|     null| null|\n|   8341|   2|   1137.2|      1|   Bob|   42|   3|   42|    10.56|      1|      999|     null|     null| null|\n|   8888|null|     null|   null|  null| null|null| null|     null|   null|     null|      951|    78.29|   18|\n|   9947|null|     null|   null|  null| null|null| null|     null|   null|     null|      687|  3400.21|   66|\n+-------+----+---------+-------+------+-----+----+-----+---------+-------+---------+---------+---------+-----+\n\n"
     ]
    }
   ],
   "source": [
    "full_joined_df.show()"
   ]
  },
  {
   "cell_type": "markdown",
   "metadata": {
    "application/vnd.databricks.v1+cell": {
     "cellMetadata": {
      "byteLimit": 2048000,
      "rowLimit": 10000
     },
     "inputWidgets": {},
     "nuid": "b2408cfc-e059-44c5-a88c-930ce93deeba",
     "showTitle": false,
     "title": ""
    }
   },
   "source": [
    "Each attribute can be selected, and each valid row will have one non-null value at most. Rows with more than one non-null value is a data clash, and must be dropped."
   ]
  },
  {
   "cell_type": "code",
   "execution_count": 0,
   "metadata": {
    "application/vnd.databricks.v1+cell": {
     "cellMetadata": {
      "byteLimit": 2048000,
      "rowLimit": 10000
     },
     "inputWidgets": {},
     "nuid": "609b5efd-d423-4ccb-bcf0-73aec3ab9dd3",
     "showTitle": false,
     "title": ""
    }
   },
   "outputs": [
    {
     "output_type": "stream",
     "name": "stdout",
     "output_type": "stream",
     "text": [
      "+---------+---------+---------+\n|balance_A|balance_B|balance_C|\n+---------+---------+---------+\n|  6421.79|  6421.79|     null|\n|     null|     null|    58.58|\n|  7891.37|  7891.37|     null|\n|   911.93|   911.93|     null|\n|   1234.0|   1234.0|    435.0|\n|     null|  4939.32|     null|\n|   1137.2|    10.56|     null|\n|     null|     null|    78.29|\n|     null|     null|  3400.21|\n+---------+---------+---------+\n\n"
     ]
    }
   ],
   "source": [
    "full_joined_df.select([c for c in full_joined_df.columns if 'balance' in c]).show()"
   ]
  },
  {
   "cell_type": "markdown",
   "metadata": {
    "application/vnd.databricks.v1+cell": {
     "cellMetadata": {
      "byteLimit": 2048000,
      "rowLimit": 10000
     },
     "inputWidgets": {},
     "nuid": "efb0224c-3621-4518-af09-bfe72046b952",
     "showTitle": false,
     "title": ""
    }
   },
   "source": [
    "Python's set data structure is convenient for reducing rows into unique values. The length of the set can be used to count the number of distinct values."
   ]
  },
  {
   "cell_type": "code",
   "execution_count": 0,
   "metadata": {
    "application/vnd.databricks.v1+cell": {
     "cellMetadata": {
      "byteLimit": 2048000,
      "rowLimit": 10000
     },
     "inputWidgets": {},
     "nuid": "bc563434-f2a6-45f8-818d-30b63473c306",
     "showTitle": false,
     "title": ""
    }
   },
   "outputs": [
    {
     "output_type": "stream",
     "name": "stdout",
     "output_type": "stream",
     "text": [
      "Row(balance_A=1234.0, balance_B=1234.0, balance_C=435.0)\nRow(balance_A=1137.2, balance_B=10.56, balance_C=None)\n"
     ]
    }
   ],
   "source": [
    "# outer loop, looping over cust_id\n",
    "for r in full_joined_df.select([c for c in full_joined_df.columns if 'balance' in c]).collect():\n",
    "    values = set(v for v in r)\n",
    "    values.add(None)\n",
    "    if len(values) > 2:\n",
    "        print(r) # set cust_id to not valid"
   ]
  },
  {
   "cell_type": "markdown",
   "metadata": {
    "application/vnd.databricks.v1+cell": {
     "cellMetadata": {
      "byteLimit": 2048000,
      "rowLimit": 10000
     },
     "inputWidgets": {},
     "nuid": "95364202-76db-451b-b448-96a64c45dfac",
     "showTitle": false,
     "title": ""
    }
   },
   "source": [
    "Searching `full_joined_df`, it is seen that customers `8341` and `6666` have outliers in their balances."
   ]
  },
  {
   "cell_type": "markdown",
   "metadata": {
    "application/vnd.databricks.v1+cell": {
     "cellMetadata": {
      "byteLimit": 2048000,
      "rowLimit": 10000
     },
     "inputWidgets": {},
     "nuid": "6f32c956-fec5-4412-a6bd-35bc277643d3",
     "showTitle": false,
     "title": ""
    }
   },
   "source": [
    "##### Step 4b (Implementation)\n",
    "\n",
    "Now the observation is implemented."
   ]
  },
  {
   "cell_type": "code",
   "execution_count": 0,
   "metadata": {
    "application/vnd.databricks.v1+cell": {
     "cellMetadata": {
      "byteLimit": 2048000,
      "rowLimit": 10000
     },
     "inputWidgets": {},
     "nuid": "786f0617-e39e-49e1-84e7-7b86c07a0d1d",
     "showTitle": false,
     "title": ""
    }
   },
   "outputs": [],
   "source": [
    "valid_cust_id = set()\n",
    "invalid_cust_id = set()\n",
    "all_cust_id = set(r[0] for r in full_joined_df.collect())"
   ]
  },
  {
   "cell_type": "code",
   "execution_count": 0,
   "metadata": {
    "application/vnd.databricks.v1+cell": {
     "cellMetadata": {
      "byteLimit": 2048000,
      "rowLimit": 10000
     },
     "inputWidgets": {},
     "nuid": "fd9c1d95-69b9-4537-a3df-79e4c03dd64d",
     "showTitle": false,
     "title": ""
    }
   },
   "outputs": [],
   "source": [
    "for cust_id in all_cust_id:\n",
    "    cust = full_joined_df.filter(full_joined_df.cust_id == cust_id)\n",
    "    valid = True\n",
    "    cust_data = []\n",
    "    for column_name in target_df.columns:\n",
    "        columns = [c for c in full_joined_df.columns if column_name in c]\n",
    "        values = set(v for v in cust.select(columns).first())\n",
    "        values.add(None)\n",
    "        if len(values) > 2:\n",
    "            valid = False\n",
    "        elif len(values) == 2:\n",
    "            cust_data.append([v for v in values if v != None][0])\n",
    "        elif len(values) == 1:\n",
    "            cust_data.append(None)\n",
    "    if valid:\n",
    "        valid_cust_id.add(cust_id)\n",
    "        target_df = target_df.union(spark.createDataFrame(\n",
    "            [tuple(cust_data)]\n",
    "            , schema=target_df.schema\n",
    "        ))\n",
    "    else:\n",
    "        invalid_cust_id.add(cust_id)"
   ]
  },
  {
   "cell_type": "markdown",
   "metadata": {
    "application/vnd.databricks.v1+cell": {
     "cellMetadata": {
      "byteLimit": 2048000,
      "rowLimit": 10000
     },
     "inputWidgets": {},
     "nuid": "a7639b61-9c35-4aca-a606-a2811fa25d13",
     "showTitle": false,
     "title": ""
    }
   },
   "source": [
    "##### Results"
   ]
  },
  {
   "cell_type": "code",
   "execution_count": 0,
   "metadata": {
    "application/vnd.databricks.v1+cell": {
     "cellMetadata": {
      "byteLimit": 2048000,
      "rowLimit": 10000
     },
     "inputWidgets": {},
     "nuid": "8ad2cc9d-e877-46d0-9df9-46e267e26e39",
     "showTitle": false,
     "title": ""
    }
   },
   "outputs": [
    {
     "output_type": "stream",
     "name": "stdout",
     "output_type": "stream",
     "text": [
      "\nGiven customers 7777, 4232, 1769, 6666, 4405, 8341, 8888, 4507, and 9947.\nThe valid customers were 7777, 4232, 1769, 4405, 8888, 4507, and 9947.\nThe invalid customers were 6666, and 8341.\n\n"
     ]
    }
   ],
   "source": [
    "valid_lst = list(valid_cust_id)\n",
    "invalid_lst = list(invalid_cust_id)\n",
    "cust_lst = list(all_cust_id)\n",
    "\n",
    "def show_list(lst:list) -> str:\n",
    "    return f'{\", \".join([str(i) for i in lst[:-1]])}, and {lst[-1]}'\n",
    "\n",
    "print(f'''\n",
    "Given customers {show_list(cust_lst)}.\n",
    "The valid customers were {show_list(valid_lst)}.\n",
    "The invalid customers were {show_list(invalid_lst)}.\n",
    "''')"
   ]
  },
  {
   "cell_type": "code",
   "execution_count": 0,
   "metadata": {
    "application/vnd.databricks.v1+cell": {
     "cellMetadata": {
      "byteLimit": 2048000,
      "rowLimit": 10000
     },
     "inputWidgets": {},
     "nuid": "7b33d995-72ca-406e-bf27-218e3b5b2431",
     "showTitle": false,
     "title": ""
    }
   },
   "outputs": [
    {
     "output_type": "stream",
     "name": "stdout",
     "output_type": "stream",
     "text": [
      "+-------+----+---+-------+-------+-----+\n|cust_id|name|age|balance|c_score|churn|\n+-------+----+---+-------+-------+-----+\n|   7777|null| 56|4939.32|   1233| null|\n|   4232|null| 23|  58.58|   null| null|\n|   1769|Dave| 30|6421.79|   null|    0|\n|   4405|Andy| 38|7891.37|    587|    1|\n|   8888|null| 18|  78.29|    951| null|\n|   4507|Jess| 21| 911.93|     48|    0|\n|   9947|null| 66|3400.21|    687| null|\n+-------+----+---+-------+-------+-----+\n\n"
     ]
    }
   ],
   "source": [
    "target_df.show()"
   ]
  }
 ],
 "metadata": {
  "application/vnd.databricks.v1+notebook": {
   "dashboards": [],
   "environmentMetadata": null,
   "language": "python",
   "notebookMetadata": {
    "pythonIndentUnit": 4
   },
   "notebookName": "Mini Data Model",
   "widgets": {}
  }
 },
 "nbformat": 4,
 "nbformat_minor": 0
}
