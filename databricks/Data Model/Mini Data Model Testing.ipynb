{
 "cells": [
  {
   "cell_type": "code",
   "execution_count": 0,
   "metadata": {
    "application/vnd.databricks.v1+cell": {
     "cellMetadata": {
      "byteLimit": 2048000,
      "rowLimit": 10000
     },
     "inputWidgets": {},
     "nuid": "97312986-bc23-47ae-a6f4-196067e159e8",
     "showTitle": false,
     "title": ""
    }
   },
   "outputs": [],
   "source": [
    "_ = '''\n",
    "initial data\n",
    "filter out customers where cust_id is null\n",
    "target table, big table\n",
    "valid cust set, invalid cust set\n",
    "filter for valid customers\n",
    "populate target table with valid customers\n",
    "'''"
   ]
  },
  {
   "cell_type": "code",
   "execution_count": 0,
   "metadata": {
    "application/vnd.databricks.v1+cell": {
     "cellMetadata": {
      "byteLimit": 2048000,
      "rowLimit": 10000
     },
     "inputWidgets": {},
     "nuid": "2ba1e353-58f9-407f-af02-99de79b6c0a0",
     "showTitle": false,
     "title": ""
    }
   },
   "outputs": [],
   "source": [
    "from pyspark.sql import SparkSession, Row, functions\n",
    "from pyspark.sql.types import (\n",
    "    StructField\n",
    "    , StringType\n",
    "    , IntegerType\n",
    "    , DoubleType\n",
    "    , StructType\n",
    ")"
   ]
  },
  {
   "cell_type": "code",
   "execution_count": 0,
   "metadata": {
    "application/vnd.databricks.v1+cell": {
     "cellMetadata": {
      "byteLimit": 2048000,
      "rowLimit": 10000
     },
     "inputWidgets": {},
     "nuid": "85db07e2-39ec-4769-8276-463b4dbe0445",
     "showTitle": false,
     "title": ""
    }
   },
   "outputs": [],
   "source": [
    "spark = SparkSession.builder.appName(\"Mini_Data_Model_Test\").getOrCreate()"
   ]
  },
  {
   "cell_type": "code",
   "execution_count": 0,
   "metadata": {
    "application/vnd.databricks.v1+cell": {
     "cellMetadata": {
      "byteLimit": 2048000,
      "rowLimit": 10000
     },
     "inputWidgets": {},
     "nuid": "67c881b3-0aa0-4fc9-8384-74c7675b0813",
     "showTitle": false,
     "title": ""
    }
   },
   "outputs": [],
   "source": [
    "table_A_data = {\n",
    "    1: (1769, 6421.79, 0, 'Dave', 30)\n",
    "    , 2: (8341, 1137.20, 1, 'Bob', 42)\n",
    "    , 3: (4507, 911.93, 0, 'Jess', 21)\n",
    "    , 4: (None, 1234.0, 0, 'Lisa', 37)\n",
    "    , 5: (4405, 7891.37, None, 'Andy', 38)\n",
    "    , 6: (6666, 1234.0, 0, None, 99)\n",
    "}\n",
    "\n",
    "table_B_data = {\n",
    "    0: (1769, 30, 6421.79, 0, None)\n",
    "    , 1: (4507, 21, 911.93, 0, 48)\n",
    "    , 2: (4405, 38, 7891.37, 1, 587)\n",
    "    , 3: (8341, 42, 10.56, 1, 999)\n",
    "    , 4: (7777, 56, 4939.32, None, 1233)\n",
    "    , 5: (6666, 98, 1234.0, 0, 1234)\n",
    "}\n",
    "\n",
    "table_C_data = {\n",
    "    4232: (None, 58.58, 23)\n",
    "    , 9947: (687, 3400.21, 66)\n",
    "    , 8888: (951, 78.29, 18)\n",
    "    , 6666: (543, 435.0, 97)\n",
    "}"
   ]
  },
  {
   "cell_type": "code",
   "execution_count": 0,
   "metadata": {
    "application/vnd.databricks.v1+cell": {
     "cellMetadata": {
      "byteLimit": 2048000,
      "rowLimit": 10000
     },
     "inputWidgets": {},
     "nuid": "7b139a5d-4db3-4e85-8bb8-4726adbfbb6b",
     "showTitle": false,
     "title": ""
    }
   },
   "outputs": [],
   "source": [
    "dfA = spark.createDataFrame([\n",
    "        Row(\n",
    "            idx=i\n",
    "            , cust_id=r[0]\n",
    "            , balance_A=r[1]\n",
    "            , churn_A=r[2]\n",
    "            , name_A=r[3]\n",
    "            , age_A=r[4]\n",
    "        )\n",
    "        for i,r in table_A_data.items() if r[0] != None\n",
    "])\n",
    "\n",
    "dfB = spark.createDataFrame([\n",
    "        Row(\n",
    "            idx=i\n",
    "            , cust_id=r[0]\n",
    "            , age_B=r[1]\n",
    "            , balance_B=r[2]\n",
    "            , churn_B=r[3]\n",
    "            , c_score_B=r[4]\n",
    "        )\n",
    "        for i,r in table_B_data.items() if r[0] != None\n",
    "])\n",
    "\n",
    "dfC = spark.createDataFrame([\n",
    "        Row(\n",
    "            cust_id=i\n",
    "            , c_score_C=r[0]\n",
    "            , balance_C=r[1]\n",
    "            , age_C=r[2]\n",
    "        )\n",
    "        for i,r in table_C_data.items() if i != None\n",
    "])"
   ]
  },
  {
   "cell_type": "code",
   "execution_count": 0,
   "metadata": {
    "application/vnd.databricks.v1+cell": {
     "cellMetadata": {
      "byteLimit": 2048000,
      "rowLimit": 10000
     },
     "inputWidgets": {},
     "nuid": "7d1566fa-d21e-45a8-b485-b2c11fbab190",
     "showTitle": false,
     "title": ""
    }
   },
   "outputs": [],
   "source": [
    "targ_df = spark.createDataFrame([], schema=StructType(fields=[\n",
    "    StructField('cust_id', IntegerType(), True)\n",
    "    , StructField('name', StringType(), True)\n",
    "    , StructField('age', IntegerType(), True)\n",
    "    , StructField('balance', DoubleType(), True)\n",
    "    , StructField('c_score', IntegerType(), True)\n",
    "    , StructField('churn', IntegerType(), True)\n",
    "]))"
   ]
  },
  {
   "cell_type": "code",
   "execution_count": 0,
   "metadata": {
    "application/vnd.databricks.v1+cell": {
     "cellMetadata": {
      "byteLimit": 2048000,
      "rowLimit": 10000
     },
     "inputWidgets": {},
     "nuid": "5ad69e76-bded-4fd5-adc5-5fb101b57a4c",
     "showTitle": false,
     "title": ""
    }
   },
   "outputs": [
    {
     "output_type": "stream",
     "name": "stdout",
     "output_type": "stream",
     "text": [
      "+-------+----+---------+-------+------+-----+----+-----+---------+-------+---------+---------+---------+-----+-----+\n|cust_id| idx|balance_A|churn_A|name_A|age_A| idx|age_B|balance_B|churn_B|c_score_B|c_score_C|balance_C|age_C|nulls|\n+-------+----+---------+-------+------+-----+----+-----+---------+-------+---------+---------+---------+-----+-----+\n|   1769|   1|  6421.79|      0|  Dave|   30|   0|   30|  6421.79|      0|     null|     null|     null| null| null|\n|   4232|null|     null|   null|  null| null|null| null|     null|   null|     null|     null|    58.58|   23| null|\n|   4405|   5|  7891.37|   null|  Andy|   38|   2|   38|  7891.37|      1|      587|     null|     null| null| null|\n|   4507|   3|   911.93|      0|  Jess|   21|   1|   21|   911.93|      0|       48|     null|     null| null| null|\n|   6666|   6|   1234.0|      0|  null|   99|   5|   98|   1234.0|      0|     1234|      543|    435.0|   97| null|\n|   7777|null|     null|   null|  null| null|   4|   56|  4939.32|   null|     1233|     null|     null| null| null|\n|   8341|   2|   1137.2|      1|   Bob|   42|   3|   42|    10.56|      1|      999|     null|     null| null| null|\n|   8888|null|     null|   null|  null| null|null| null|     null|   null|     null|      951|    78.29|   18| null|\n|   9947|null|     null|   null|  null| null|null| null|     null|   null|     null|      687|  3400.21|   66| null|\n+-------+----+---------+-------+------+-----+----+-----+---------+-------+---------+---------+---------+-----+-----+\n\n"
     ]
    }
   ],
   "source": [
    "full_joined_df = dfA.join(dfB, on='cust_id', how='full').join(dfC, on='cust_id', how='full')\n",
    "full_joined_df = full_joined_df.withColumn(\"nulls\", functions.lit(None))\n",
    "full_joined_df.show() # .select(['cust_id', 'name', 'age', 'balance', 'c_score', 'churn'])"
   ]
  },
  {
   "cell_type": "code",
   "execution_count": 0,
   "metadata": {
    "application/vnd.databricks.v1+cell": {
     "cellMetadata": {
      "byteLimit": 2048000,
      "rowLimit": 10000
     },
     "inputWidgets": {},
     "nuid": "089754a6-1488-4137-8c24-55470c925757",
     "showTitle": false,
     "title": ""
    }
   },
   "outputs": [
    {
     "output_type": "stream",
     "name": "stdout",
     "output_type": "stream",
     "text": [
      "+---------+---------+---------+-----+\n|balance_A|balance_B|balance_C|nulls|\n+---------+---------+---------+-----+\n|  6421.79|  6421.79|     null| null|\n|     null|     null|    58.58| null|\n|  7891.37|  7891.37|     null| null|\n|   911.93|   911.93|     null| null|\n|   1234.0|   1234.0|    435.0| null|\n|     null|  4939.32|     null| null|\n|   1137.2|    10.56|     null| null|\n|     null|     null|    78.29| null|\n|     null|     null|  3400.21| null|\n+---------+---------+---------+-----+\n\n"
     ]
    }
   ],
   "source": [
    "full_joined_df.select([c for c in full_joined_df.columns if 'bal' in c] + ['nulls']).show()"
   ]
  },
  {
   "cell_type": "code",
   "execution_count": 0,
   "metadata": {
    "application/vnd.databricks.v1+cell": {
     "cellMetadata": {
      "byteLimit": 2048000,
      "rowLimit": 10000
     },
     "inputWidgets": {},
     "nuid": "139c713d-e342-43de-b8c5-76724bc7fecb",
     "showTitle": false,
     "title": ""
    }
   },
   "outputs": [
    {
     "output_type": "stream",
     "name": "stdout",
     "output_type": "stream",
     "text": [
      "Row(balance_A=1234.0, balance_B=1234.0, balance_C=435.0, nulls=None)\nRow(balance_A=1137.2, balance_B=10.56, balance_C=None, nulls=None)\n"
     ]
    }
   ],
   "source": [
    "# outer loop, looping over cust_id\n",
    "for r in full_joined_df.select([c for c in full_joined_df.columns if 'bal' in c] + ['nulls']).collect():\n",
    "    if len(set(v for v in r)) > 2:\n",
    "        print(r) # set cust_id to not valid"
   ]
  },
  {
   "cell_type": "code",
   "execution_count": 0,
   "metadata": {
    "application/vnd.databricks.v1+cell": {
     "cellMetadata": {
      "byteLimit": 2048000,
      "rowLimit": 10000
     },
     "inputWidgets": {},
     "nuid": "f044151c-6ab0-47ba-bae0-b4cf16e4350f",
     "showTitle": false,
     "title": ""
    }
   },
   "outputs": [],
   "source": [
    "valid_cust_id = set()\n",
    "invalid_cust_id = set()\n",
    "all_cust_id = set(r[0] for r in full_joined_df.collect())"
   ]
  },
  {
   "cell_type": "code",
   "execution_count": 0,
   "metadata": {
    "application/vnd.databricks.v1+cell": {
     "cellMetadata": {
      "byteLimit": 2048000,
      "rowLimit": 10000
     },
     "inputWidgets": {},
     "nuid": "4fe031d2-844d-4d1f-ab7c-2fc51c0e8596",
     "showTitle": false,
     "title": ""
    }
   },
   "outputs": [],
   "source": [
    "for c_id in all_cust_id:\n",
    "    cust = full_joined_df.filter(full_joined_df.cust_id == c_id)\n",
    "    valid = True\n",
    "    #check validity name age balance c_score churn\n",
    "    new_cust = []\n",
    "    for column_name in targ_df.columns:\n",
    "        columns = [c for c in full_joined_df.columns if column_name in c] + ['nulls']\n",
    "        values = set(v for v in cust.select(columns).first())\n",
    "        if len(values) > 2:\n",
    "            valid = False\n",
    "        elif len(values) == 2:\n",
    "            #print(values)\n",
    "            new_cust.append([v for v in values if v != None][0])\n",
    "        elif len(values) == 1:\n",
    "            new_cust.append(None)\n",
    "    if valid:\n",
    "        valid_cust_id.add(c_id)\n",
    "        data_tuple = tuple(new_cust)\n",
    "        #print(data_tuple)\n",
    "        targ_df = targ_df.union(spark.createDataFrame([data_tuple], schema=targ_df.schema))\n",
    "    else:\n",
    "        invalid_cust_id.add(c_id)"
   ]
  },
  {
   "cell_type": "code",
   "execution_count": 0,
   "metadata": {
    "application/vnd.databricks.v1+cell": {
     "cellMetadata": {
      "byteLimit": 2048000,
      "rowLimit": 10000
     },
     "inputWidgets": {},
     "nuid": "81534a07-caf9-47b4-84e5-9143a0613759",
     "showTitle": false,
     "title": ""
    }
   },
   "outputs": [
    {
     "output_type": "stream",
     "name": "stdout",
     "output_type": "stream",
     "text": [
      "{7777, 4232, 1769, 4405, 8888, 4507, 9947}\n{6666, 8341}\n{7777, 4232, 1769, 6666, 4405, 8341, 8888, 4507, 9947}\n"
     ]
    }
   ],
   "source": [
    "for e in [valid_cust_id, invalid_cust_id, all_cust_id]:\n",
    "    print(e)"
   ]
  },
  {
   "cell_type": "code",
   "execution_count": 0,
   "metadata": {
    "application/vnd.databricks.v1+cell": {
     "cellMetadata": {
      "byteLimit": 2048000,
      "rowLimit": 10000
     },
     "inputWidgets": {},
     "nuid": "21e95227-b8cf-45c5-85e5-cef0080e0302",
     "showTitle": false,
     "title": ""
    }
   },
   "outputs": [],
   "source": [
    "# populate dataframe\n",
    "# use len(set(v for v in r)) == 2 to find nonnull values\n",
    "# if set has 2 elements then\n",
    "# value = [v for v in set if v][0]"
   ]
  },
  {
   "cell_type": "code",
   "execution_count": 0,
   "metadata": {
    "application/vnd.databricks.v1+cell": {
     "cellMetadata": {
      "byteLimit": 2048000,
      "rowLimit": 10000
     },
     "inputWidgets": {},
     "nuid": "bd8b7618-e8ed-4410-a069-5e064100d30c",
     "showTitle": false,
     "title": ""
    }
   },
   "outputs": [
    {
     "output_type": "stream",
     "name": "stdout",
     "output_type": "stream",
     "text": [
      "+-------+----+---+-------+-------+-----+\n|cust_id|name|age|balance|c_score|churn|\n+-------+----+---+-------+-------+-----+\n|   7777|null| 56|4939.32|   1233| null|\n|   4232|null| 23|  58.58|   null| null|\n|   1769|Dave| 30|6421.79|   null|    0|\n|   4405|Andy| 38|7891.37|    587|    1|\n|   8888|null| 18|  78.29|    951| null|\n|   4507|Jess| 21| 911.93|     48|    0|\n|   9947|null| 66|3400.21|    687| null|\n+-------+----+---+-------+-------+-----+\n\n"
     ]
    }
   ],
   "source": [
    "targ_df.show()"
   ]
  },
  {
   "cell_type": "code",
   "execution_count": 0,
   "metadata": {
    "application/vnd.databricks.v1+cell": {
     "cellMetadata": {
      "byteLimit": 2048000,
      "rowLimit": 10000
     },
     "inputWidgets": {},
     "nuid": "dca74994-9eeb-4666-96d1-cebeefab7b37",
     "showTitle": false,
     "title": ""
    }
   },
   "outputs": [],
   "source": [
    "_ = '''\n",
    "\n",
    "get_keys = lambda _df, _pk: set(row[_pk] for row in _df.collect())\n",
    "key = 'cust_id'\n",
    "\n",
    "for row in dfA.collect():\n",
    "    cust_id = row[key]\n",
    "    targdf_keys = get_keys(targ_df, key)\n",
    "    if cust_id:\n",
    "        if cust_id in targdf_keys:\n",
    "            overlap = targ_df.select(dfA.columns)\n",
    "            control_row = overlap.filter(key == cust_id).first()\n",
    "            existing_row = targ_df.filter(key == cust_id).first()\n",
    "            targ_df = targ_df.filter(key != cust_id)\n",
    "            new_row = {c:existing_row[c] for c in targ_df.columns}\n",
    "            if all():\n",
    "                for k,v in new_row.items():\n",
    "                    if v == None:\n",
    "                        new_row[k] = row[k]\n",
    "            else:\n",
    "                data_tuple = (cust_id, row['name'], row['age'], row['balance'], None, row['churn'], 'A')\n",
    "                rejected_df = rejected_df.union(spark.createDataFrame([data_tuple], schema=rejected_df.schema))\n",
    "        else:\n",
    "            data_tuple = (cust_id, row['name'], row['age'], row['balance'], None, row['churn'])\n",
    "            targ_df = targ_df.union(spark.createDataFrame([data_tuple], schema=targ_df.schema))\n",
    "    else:\n",
    "        data_tuple = (cust_id, row['name'], row['age'], row['balance'], None, row['churn'], 'A')\n",
    "        rejected_df = rejected_df.union(spark.createDataFrame([data_tuple], schema=rejected_df.schema))\n",
    "\n",
    "'''"
   ]
  }
 ],
 "metadata": {
  "application/vnd.databricks.v1+notebook": {
   "dashboards": [],
   "environmentMetadata": null,
   "language": "python",
   "notebookMetadata": {
    "pythonIndentUnit": 4
   },
   "notebookName": "Mini Data Model Testing",
   "widgets": {}
  }
 },
 "nbformat": 4,
 "nbformat_minor": 0
}
